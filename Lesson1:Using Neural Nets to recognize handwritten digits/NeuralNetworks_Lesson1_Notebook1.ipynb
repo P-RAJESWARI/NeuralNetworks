{
  "cells": [
    {
      "cell_type": "markdown",
      "metadata": {
        "id": "view-in-github",
        "colab_type": "text"
      },
      "source": [
        "<a href=\"https://colab.research.google.com/github/P-RAJESWARI/NeuralNetworks/blob/main/Lesson1%3AUsing%20Neural%20Nets%20to%20recognize%20handwritten%20digits/NeuralNetworks_Lesson1_Notebook1.ipynb\" target=\"_parent\"><img src=\"https://colab.research.google.com/assets/colab-badge.svg\" alt=\"Open In Colab\"/></a>"
      ]
    },
    {
      "cell_type": "markdown",
      "source": [
        "Sigmoid neurons simulating perceptrons, part I"
      ],
      "metadata": {
        "id": "pXXz41emTyq3"
      },
      "id": "pXXz41emTyq3"
    },
    {
      "cell_type": "markdown",
      "id": "0a85e91a",
      "metadata": {
        "id": "0a85e91a"
      },
      "source": [
        "Suppose we take all the weights and biases in a network of perceptrons, and multiply them by a positive constant, c>0\n",
        "Show that the behaviour of the network doesn't change."
      ]
    },
    {
      "cell_type": "code",
      "execution_count": 1,
      "id": "3fdbd3c8",
      "metadata": {
        "id": "3fdbd3c8"
      },
      "outputs": [],
      "source": [
        "#Import necessary libraries\n",
        "import numpy as np"
      ]
    },
    {
      "cell_type": "code",
      "execution_count": 2,
      "id": "40693c2c",
      "metadata": {
        "id": "40693c2c"
      },
      "outputs": [],
      "source": [
        "#define function for perceptron output which gets input as weights,bias and inputs\n",
        "#hence we are going to calculate z=w.x+b\n",
        "#return 1 if the value of z is greater than 1 ,otherwise return 0\n",
        "def perceptron_output(weights,bias,inputs):\n",
        "    z=np.dot(weights,inputs)+bias\n",
        "    return (z,1 if z>=0 else 0)"
      ]
    },
    {
      "cell_type": "code",
      "execution_count": 3,
      "id": "8e8c5921",
      "metadata": {
        "id": "8e8c5921"
      },
      "outputs": [],
      "source": [
        "#Weights are initialized with some random static value and as well bias and inputs\n",
        "weights=np.array([0.5,-0.6,0.8])\n",
        "bias=0.1\n",
        "inputs=np.array([1.0,2.0,-1.5])"
      ]
    },
    {
      "cell_type": "code",
      "execution_count": 4,
      "id": "15c29a3f",
      "metadata": {
        "colab": {
          "base_uri": "https://localhost:8080/"
        },
        "id": "15c29a3f",
        "outputId": "89d363ea-c02f-4b4a-cf1d-eeaf35043f53"
      },
      "outputs": [
        {
          "output_type": "stream",
          "name": "stdout",
          "text": [
            "z value is  -1.8\n",
            "Original output is  0\n"
          ]
        }
      ],
      "source": [
        "#We calculate z value and the perceptron output with the original value of inputs,weights and bias\n",
        "z_org,original_output=perceptron_output(weights,bias,inputs)\n",
        "print(\"z value is \",z_org)\n",
        "print(\"Original output is \",original_output)"
      ]
    },
    {
      "cell_type": "code",
      "execution_count": 5,
      "id": "8b1a5590",
      "metadata": {
        "id": "8b1a5590"
      },
      "outputs": [],
      "source": [
        "#constant c is initialized as 2\n",
        "#we can take any positive constant and multiply with original weights and bias\n",
        "c=2.0\n",
        "new_weights=c*weights\n",
        "new_bias=c*bias"
      ]
    },
    {
      "cell_type": "code",
      "execution_count": 6,
      "id": "62eeac7a",
      "metadata": {
        "colab": {
          "base_uri": "https://localhost:8080/"
        },
        "id": "62eeac7a",
        "outputId": "85a228b4-e7ff-4f54-bf4c-160a3d6563dd"
      },
      "outputs": [
        {
          "output_type": "stream",
          "name": "stdout",
          "text": [
            "New z value is  -1.8\n",
            "New output is  0\n"
          ]
        }
      ],
      "source": [
        "\"\"\"The behaviour of the network doesn't changes ,this can be ensured by calculating the perceptron output with new values of\n",
        "   weights and bias ,that is weights and bias multiplied with some postive constant c,then observing it's output\n",
        "\"\"\"\n",
        "z_new,new_output=perceptron_output(weights,bias,inputs)\n",
        "print(\"New z value is \",z_new)\n",
        "print(\"New output is \",new_output)"
      ]
    },
    {
      "cell_type": "markdown",
      "id": "7ea75618",
      "metadata": {
        "id": "7ea75618"
      },
      "source": [
        "The output of perceptron calculated using the original value of weights,bias and inputs and the output calculated using multiplied constant positive constant value with the perceptron remains the same"
      ]
    }
  ],
  "metadata": {
    "kernelspec": {
      "display_name": "Python 3 (ipykernel)",
      "language": "python",
      "name": "python3"
    },
    "language_info": {
      "codemirror_mode": {
        "name": "ipython",
        "version": 3
      },
      "file_extension": ".py",
      "mimetype": "text/x-python",
      "name": "python",
      "nbconvert_exporter": "python",
      "pygments_lexer": "ipython3",
      "version": "3.10.9"
    },
    "colab": {
      "provenance": [],
      "include_colab_link": true
    }
  },
  "nbformat": 4,
  "nbformat_minor": 5
}